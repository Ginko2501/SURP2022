{
  "nbformat": 4,
  "nbformat_minor": 0,
  "metadata": {
    "colab": {
      "name": "ATF.ipynb",
      "provenance": [],
      "collapsed_sections": [],
      "mount_file_id": "1FzbOtWyZJM-E3ftPUxdTBrmyntlKw5ix",
      "authorship_tag": "ABX9TyN72/z427orhLvgFdCJJD+E",
      "include_colab_link": true
    },
    "kernelspec": {
      "name": "python3",
      "display_name": "Python 3"
    },
    "language_info": {
      "name": "python"
    }
  },
  "cells": [
    {
      "cell_type": "markdown",
      "metadata": {
        "id": "view-in-github",
        "colab_type": "text"
      },
      "source": [
        "<a href=\"https://colab.research.google.com/github/Ginko2501/SURP2022/blob/main/ATF.ipynb\" target=\"_parent\"><img src=\"https://colab.research.google.com/assets/colab-badge.svg\" alt=\"Open In Colab\"/></a>"
      ]
    },
    {
      "cell_type": "code",
      "execution_count": 2,
      "metadata": {
        "id": "-7hpRWKCCqHY"
      },
      "outputs": [],
      "source": [
        "import csv\n",
        "import math\n",
        "import numpy as np"
      ]
    },
    {
      "cell_type": "code",
      "source": [
        "class node (object):\n",
        "  # a node contains a vertex, the nodal_ray attached to that vertex, and the edge departing from that vertex\n",
        "  def __init__ (self, vertex, nodal_ray, edge, affine_length):\n",
        "    self.vertex = vertex\n",
        "    self.nodal_ray = nodal_ray\n",
        "    self.edge = edge\n",
        "    self.affine_length = affine_length"
      ],
      "metadata": {
        "id": "1HOSxYsfhGT1"
      },
      "execution_count": 3,
      "outputs": []
    },
    {
      "cell_type": "code",
      "source": [
        "n = 0\n",
        "nodes = np.array([])"
      ],
      "metadata": {
        "id": "pdiFQiY63H-K"
      },
      "execution_count": 20,
      "outputs": []
    },
    {
      "cell_type": "code",
      "source": [
        "def init_polydisk (x):\n",
        "  # initialize polydisk P(1,x)\n",
        "  global n\n",
        "  global nodes\n",
        "\n",
        "  n = 4\n",
        "  nodes = np.array([])\n",
        "  nodes = np.append(nodes, node(np.array([0,0]), np.array([1,1]), np.array([0,1]), 1))\n",
        "  nodes = np.append(nodes, node(np.array([0,1]), np.array([1,-1]), np.array([1,0]), x))\n",
        "  nodes = np.append(nodes, node(np.array([x,1]), np.array([-1,-1]), np.array([0,-1]), 1))\n",
        "  nodes = np.append(nodes, node(np.array([x,0]), np.array([-1,1]), np.array([-1,0]), x))"
      ],
      "metadata": {
        "id": "dVBR1DMek3At"
      },
      "execution_count": 18,
      "outputs": []
    },
    {
      "cell_type": "code",
      "source": [
        "# test init_polydisk\n",
        "init_polydisk(2)\n",
        "\n",
        "for i in range(n):\n",
        "  print(nodes[i].vertex, end=\" \")\n",
        "print()\n",
        "\n",
        "for i in range(n):\n",
        "  print(nodes[i].affine_length * nodes[i].edge, end=\" \")"
      ],
      "metadata": {
        "colab": {
          "base_uri": "https://localhost:8080/"
        },
        "id": "ov4xpIZelfp3",
        "outputId": "f83ca616-3080-417d-fd1d-c3077d755686"
      },
      "execution_count": 22,
      "outputs": [
        {
          "output_type": "stream",
          "name": "stdout",
          "text": [
            "[0 0] [0 1] [2 1] [2 0] \n",
            "[0 1] [2 0] [ 0 -1] [-2  0] "
          ]
        }
      ]
    },
    {
      "cell_type": "code",
      "source": [
        "def dist (x,y):\n",
        "  return np.linalg.norm(x-y)"
      ],
      "metadata": {
        "id": "EUeIod3SPLIp"
      },
      "execution_count": 30,
      "outputs": []
    },
    {
      "cell_type": "code",
      "source": [
        "def intersect_one (i,j):\n",
        "  # solve the intersection between i-th nodal ray and j-th edge\n",
        "  global n\n",
        "  global nodes\n",
        "\n",
        "  # copy as local variables\n",
        "  n1 = nodes[i].vertex\n",
        "  n2 = nodes[j].vertex\n",
        "  n3 = nodes[(j+1)%n].vertex\n",
        "  v1 = nodes[i].nodal_ray\n",
        "  v2 = nodes[j].edge\n",
        "\n",
        "  # solve for the intersection point\n",
        "  vec = np.array([ v1[1]*n1[0]-v1[0]*n1[1], v2[1]*n2[0]-v2[0]*n2[1] ])\n",
        "  mat = np.array([ [ v1[1], -v1[0] ],\n",
        "            [ v2[1], -v2[0] ] ])\n",
        "  itx = np.linalg.solve(mat, vec)\n",
        "\n",
        "  # check the intersection is on the edge\n",
        "  if (n2[0]==n3[0]):\n",
        "    lmbda = (itx[1]-n3[1]) / (n2[1]-n3[1])\n",
        "  else:\n",
        "    lmbda = (itx[0]-n3[0]) / (n2[0]-n3[0])\n",
        "  if (lmbda<0 or lmbda>1):\n",
        "    return np.array([-1,-1])\n",
        "\n",
        "  return itx"
      ],
      "metadata": {
        "id": "NmXjnuKwkTSo"
      },
      "execution_count": 47,
      "outputs": []
    },
    {
      "cell_type": "code",
      "source": [
        "# test intersect_one\n",
        "init_polydisk(0.5)\n",
        "intersect_one(0,1)"
      ],
      "metadata": {
        "colab": {
          "base_uri": "https://localhost:8080/"
        },
        "id": "se1mqCADPqrB",
        "outputId": "57256d06-07ff-44cf-926e-1e851ff1b702"
      },
      "execution_count": 25,
      "outputs": [
        {
          "output_type": "execute_result",
          "data": {
            "text/plain": [
              "-1"
            ]
          },
          "metadata": {},
          "execution_count": 25
        }
      ]
    },
    {
      "cell_type": "code",
      "source": [
        "def intersect_all (x):\n",
        "  # solve the intersecting edge by the x-th nodal ray\n",
        "  global n\n",
        "  global nodes\n",
        "\n",
        "  # the variables for the intersecting edge\n",
        "  min_edge = x\n",
        "  min_itx = np.array([])\n",
        "  min_dist = math.inf\n",
        "  \n",
        "  for i in range(n):\n",
        "    if (i==x or i==(x-1)%n):\n",
        "      continue\n",
        "\n",
        "    itx = intersect_one(x,i)\n",
        "    if (np.array_equal(itx, [-1,-1])):\n",
        "      continue\n",
        "    \n",
        "    dis = dist(nodes[x].vertex, itx)\n",
        "    if (dis < min_dist):\n",
        "      min_edge = i\n",
        "      min_itx = itx\n",
        "      min_dist = dis\n",
        "\n",
        "  return (min_edge, min_itx)"
      ],
      "metadata": {
        "id": "O2xjL38SRxHu"
      },
      "execution_count": 53,
      "outputs": []
    },
    {
      "cell_type": "code",
      "source": [
        "# test intersect_all\n",
        "init_polydisk(0.5)\n",
        "intersect_all(0)"
      ],
      "metadata": {
        "colab": {
          "base_uri": "https://localhost:8080/"
        },
        "id": "BsYltxsrUTnM",
        "outputId": "c149d926-872c-42f3-bf0a-da167bafd838"
      },
      "execution_count": 52,
      "outputs": [
        {
          "output_type": "execute_result",
          "data": {
            "text/plain": [
              "(2, array([0.5, 0.5]))"
            ]
          },
          "metadata": {},
          "execution_count": 52
        }
      ]
    },
    {
      "cell_type": "code",
      "source": [
        "def solve_matrix (v1, v2, w1, w2):\n",
        "  # solve the eigen-direction\n",
        "  vec = np.concatenate((v2,w2))\n",
        "  mat = np.array([ [v1[0], v1[1], 0,   0  ],\n",
        "            [0,   0,   v1[0], v1[1]], \n",
        "            [w1[0], w1[1], 0,  0,  ],\n",
        "            [0,   0,   w1[0], w1[1]], ])\n",
        "  res = np.linalg.solve(mat,vec)\n",
        "  return np.array([ [res[0],res[1]], \n",
        "            [res[2],res[3]] ])"
      ],
      "metadata": {
        "id": "53rXhUb4DvcO"
      },
      "execution_count": 21,
      "outputs": []
    },
    {
      "cell_type": "code",
      "source": [
        "# test solve_matrix\n",
        "v1 = [-1,1]\n",
        "v2 = [-1,1]\n",
        "w1 = [0,1]\n",
        "w2 = [1,0]\n",
        "solve_matrix(v1,v2,w1,w2)"
      ],
      "metadata": {
        "colab": {
          "base_uri": "https://localhost:8080/"
        },
        "id": "FcEio2eLI00Y",
        "outputId": "1c871eef-93d9-4c77-9e3b-7c2b707dd285"
      },
      "execution_count": null,
      "outputs": [
        {
          "output_type": "execute_result",
          "data": {
            "text/plain": [
              "array([[ 2.,  1.],\n",
              "       [-1.,  0.]])"
            ]
          },
          "metadata": {},
          "execution_count": 7
        }
      ]
    },
    {
      "cell_type": "code",
      "source": [
        "def mutate_clockwise (l, r):\n",
        "  # mutate with nodal_ray < intersecting edge\n",
        "  global n\n",
        "  global nodes\n",
        "  global nodal_rays\n",
        "  global edges\n",
        "\n",
        "  mat = solve_matrix(l,l, edges[l], edges[(l-1)%n])"
      ],
      "metadata": {
        "id": "ebyiFQGgdPOX"
      },
      "execution_count": null,
      "outputs": []
    },
    {
      "cell_type": "code",
      "source": [
        "def mutate_counterclockwise (x):\n",
        "  # mutate with nodal_ray > intersecting edge\n",
        "  return x"
      ],
      "metadata": {
        "id": "gC4tB9DbdUFM"
      },
      "execution_count": null,
      "outputs": []
    },
    {
      "cell_type": "code",
      "source": [
        "def mutate (x):\n",
        "  # mutate once by x-th nodal_ray\n",
        "  global n\n",
        "  global nodes\n",
        "  global nodal_rays\n",
        "  global edges\n",
        "\n",
        "  (y, itx) = intersect_all(x)\n",
        "\n",
        "  if (x<y):\n",
        "    return mutate_clockwise(x,y)\n",
        "  else:\n",
        "    return mutate_counterclockwise(x,y)"
      ],
      "metadata": {
        "id": "g3B-mw1oX0mM"
      },
      "execution_count": null,
      "outputs": []
    },
    {
      "cell_type": "code",
      "source": [
        ""
      ],
      "metadata": {
        "id": "j0MeZHpnPIyn"
      },
      "execution_count": null,
      "outputs": []
    }
  ]
}