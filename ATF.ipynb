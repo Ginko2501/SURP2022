{
  "nbformat": 4,
  "nbformat_minor": 0,
  "metadata": {
    "colab": {
      "name": "ATF.ipynb",
      "provenance": [],
      "collapsed_sections": [],
      "toc_visible": true,
      "mount_file_id": "1_HQSYR5lHqd6y5TUPrBlms-jl258LR-H",
      "authorship_tag": "ABX9TyMUyv6sZ8x9aHTX9YLLKffv",
      "include_colab_link": true
    },
    "kernelspec": {
      "name": "python3",
      "display_name": "Python 3"
    },
    "language_info": {
      "name": "python"
    }
  },
  "cells": [
    {
      "cell_type": "markdown",
      "metadata": {
        "id": "view-in-github",
        "colab_type": "text"
      },
      "source": [
        "<a href=\"https://colab.research.google.com/github/Ginko2501/SURP2022/blob/main/ATF.ipynb\" target=\"_parent\"><img src=\"https://colab.research.google.com/assets/colab-badge.svg\" alt=\"Open In Colab\"/></a>"
      ]
    },
    {
      "cell_type": "code",
      "execution_count": null,
      "metadata": {
        "id": "-7hpRWKCCqHY"
      },
      "outputs": [],
      "source": [
        "import csv\n",
        "import math\n",
        "import numpy as np"
      ]
    },
    {
      "cell_type": "code",
      "source": [
        "# variables\n",
        "nodes = np.empty(shape=[0,2])\n",
        "nodal_rays = np.empty(shape=[0,2])\n",
        "edges = np.empty(shape=[0,2])"
      ],
      "metadata": {
        "id": "1HOSxYsfhGT1"
      },
      "execution_count": null,
      "outputs": []
    },
    {
      "cell_type": "code",
      "source": [
        "def init_polydisk (x):\n",
        "  global n = 4\n",
        "  global nodes\n",
        "  global nodal_rays\n",
        "  global edges\n",
        "\n",
        "  # init nodes\n",
        "  nodes = np.append(nodes, [[0,0]], axis=0)\n",
        "  nodes = np.append(nodes, [[0,1]], axis=0)\n",
        "  nodes = np.append(nodes, [[x,1]], axis=0)\n",
        "  nodes = np.append(nodes, [[x,0]], axis=0)\n",
        "\n",
        "  # init nodal rays\n",
        "  nodal_rays = np.append(nodal_rays, [[1,1]], axis=0)\n",
        "  nodal_rays = np.append(nodal_rays, [[1,-1]], axis=0)\n",
        "  nodal_rays = np.append(nodal_rays, [[-1,-1]], axis=0)\n",
        "  nodal_rays = np.append(nodal_rays, [[-1,1]], axis=0)\n",
        "\n",
        "  # init edges\n",
        "  edges = np.append(edges, [[0,1]], axis=0)\n",
        "  edges = np.append(edges, [[x,0]], axis=0)\n",
        "  edges = np.append(edges, [[0,-1]], axis=0)\n",
        "  edges = np.append(edges, [[-x,0]], axis=0)\n",
        "  "
      ],
      "metadata": {
        "id": "dVBR1DMek3At"
      },
      "execution_count": null,
      "outputs": []
    },
    {
      "cell_type": "code",
      "source": [
        "# test init_polydisk\n",
        "init_polydisk(1.3)\n",
        "print(nodes)"
      ],
      "metadata": {
        "colab": {
          "base_uri": "https://localhost:8080/"
        },
        "id": "ov4xpIZelfp3",
        "outputId": "ffc3536f-83d9-4d26-81cf-9da1a011076f"
      },
      "execution_count": null,
      "outputs": [
        {
          "output_type": "stream",
          "name": "stdout",
          "text": [
            "[[0.  0. ]\n",
            " [0.  1. ]\n",
            " [1.3 1. ]\n",
            " [1.3 0. ]]\n"
          ]
        }
      ]
    },
    {
      "cell_type": "code",
      "source": [
        "def dist (x,y):\n",
        "  return np.linalg.norm(x-y)"
      ],
      "metadata": {
        "id": "EUeIod3SPLIp"
      },
      "execution_count": null,
      "outputs": []
    },
    {
      "cell_type": "code",
      "source": [
        "def intersect_one (i,j):\n",
        "  global n\n",
        "  global nodes\n",
        "  global nodal_rays\n",
        "  global edges\n",
        "\n",
        "  # copy as local variables\n",
        "  n1 = nodes[i]\n",
        "  n2 = nodes[j]\n",
        "  v1 = nodal_rays[i]\n",
        "  v2 = edges[j]\n",
        "\n",
        "  # solve for the intersection point\n",
        "  vec = np.array([ [v1[1]n1[0]-v1[0]n1[1], v2[1]n2[0]-v2[0]n2[1] ])\n",
        "  mat = np.array([ [ v1[1], -v1[0] ],\n",
        "            [ v2[1], -v2[0] ] ])\n",
        "  sec = np.linalg.solve(mat, vec)\n",
        "\n",
        "  #"
      ],
      "metadata": {
        "id": "NmXjnuKwkTSo"
      },
      "execution_count": null,
      "outputs": []
    },
    {
      "cell_type": "code",
      "source": [
        "def intersect_all (k):\n",
        "  global n\n",
        "  global nodes\n",
        "  global nodal_rays\n",
        "  global edges\n",
        "\n",
        "  for i in rang(n):\n"
      ],
      "metadata": {
        "id": "O2xjL38SRxHu"
      },
      "execution_count": null,
      "outputs": []
    },
    {
      "cell_type": "code",
      "source": [
        "def solve_matrix (v1, v2, w1, w2):\n",
        "  vec = np.concatenate((v2,w2))\n",
        "  mat = np.array([ [v1[0], v1[1], 0,   0  ],\n",
        "            [0,   0,   v1[0], v1[1]], \n",
        "            [w1[0], w1[1], 0,  0,  ],\n",
        "            [0,   0,   w1[0], w1[1]], ])\n",
        "  res = np.linalg.solve(mat,vec)\n",
        "  return np.array([ [res[0],res[1]], \n",
        "            [res[2],res[3]] ])"
      ],
      "metadata": {
        "id": "53rXhUb4DvcO"
      },
      "execution_count": null,
      "outputs": []
    },
    {
      "cell_type": "code",
      "source": [
        "# test solve_matrix\n",
        "v1 = [-1,1]\n",
        "v2 = [-1,1]\n",
        "w1 = [0,1]\n",
        "w2 = [1,0]\n",
        "solve_matrix(v1,v2,w1,w2)"
      ],
      "metadata": {
        "colab": {
          "base_uri": "https://localhost:8080/"
        },
        "id": "FcEio2eLI00Y",
        "outputId": "1c871eef-93d9-4c77-9e3b-7c2b707dd285"
      },
      "execution_count": null,
      "outputs": [
        {
          "output_type": "execute_result",
          "data": {
            "text/plain": [
              "array([[ 2.,  1.],\n",
              "       [-1.,  0.]])"
            ]
          },
          "metadata": {},
          "execution_count": 7
        }
      ]
    },
    {
      "cell_type": "code",
      "source": [
        ""
      ],
      "metadata": {
        "id": "j0MeZHpnPIyn"
      },
      "execution_count": null,
      "outputs": []
    }
  ]
}