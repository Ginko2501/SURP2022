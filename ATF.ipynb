{
  "nbformat": 4,
  "nbformat_minor": 0,
  "metadata": {
    "colab": {
      "name": "ATF.ipynb",
      "provenance": [],
      "collapsed_sections": [],
      "mount_file_id": "1FzbOtWyZJM-E3ftPUxdTBrmyntlKw5ix",
      "authorship_tag": "ABX9TyO8gSSdIgx7fQd3S6jRfw27",
      "include_colab_link": true
    },
    "kernelspec": {
      "name": "python3",
      "display_name": "Python 3"
    },
    "language_info": {
      "name": "python"
    }
  },
  "cells": [
    {
      "cell_type": "markdown",
      "metadata": {
        "id": "view-in-github",
        "colab_type": "text"
      },
      "source": [
        "<a href=\"https://colab.research.google.com/github/Ginko2501/SURP2022/blob/main/ATF.ipynb\" target=\"_parent\"><img src=\"https://colab.research.google.com/assets/colab-badge.svg\" alt=\"Open In Colab\"/></a>"
      ]
    },
    {
      "cell_type": "code",
      "execution_count": 1,
      "metadata": {
        "id": "-7hpRWKCCqHY"
      },
      "outputs": [],
      "source": [
        "import csv\n",
        "import math\n",
        "import numpy as np"
      ]
    },
    {
      "cell_type": "code",
      "source": [
        "class node (object):\n",
        "  # a node contains a vertex, the nodal_ray attached to that vertex, and the edge departing from that vertex\n",
        "  def __init__ (self, vertex, nodal_ray, edge, affine_length):\n",
        "    self.vertex = vertex\n",
        "    self.nodal_ray = nodal_ray\n",
        "    self.edge = edge\n",
        "    self.affine_length = affine_length"
      ],
      "metadata": {
        "id": "1HOSxYsfhGT1"
      },
      "execution_count": 2,
      "outputs": []
    },
    {
      "cell_type": "code",
      "source": [
        "n = 0\n",
        "nodes = np.array([])"
      ],
      "metadata": {
        "id": "pdiFQiY63H-K"
      },
      "execution_count": 3,
      "outputs": []
    },
    {
      "cell_type": "code",
      "source": [
        "def init_polydisk (x):\n",
        "  # initialize polydisk P(1,x)\n",
        "  global n\n",
        "  global nodes\n",
        "\n",
        "  n = 4\n",
        "  nodes = np.array([])\n",
        "  nodes = np.append(nodes, node(np.array([0,0]), np.array([1,1]), np.array([0,1]), 1.))\n",
        "  nodes = np.append(nodes, node(np.array([0,1]), np.array([1,-1]), np.array([1,0]), x))\n",
        "  nodes = np.append(nodes, node(np.array([x,1]), np.array([-1,-1]), np.array([0,-1]), 1.))\n",
        "  nodes = np.append(nodes, node(np.array([x,0]), np.array([-1,1]), np.array([-1,0]), x))"
      ],
      "metadata": {
        "id": "dVBR1DMek3At"
      },
      "execution_count": 4,
      "outputs": []
    },
    {
      "cell_type": "code",
      "source": [
        "# test init_polydisk\n",
        "init_polydisk(2.)\n",
        "\n",
        "for i in range(n):\n",
        "  print(nodes[i].vertex, end=\" \")\n",
        "print()\n",
        "\n",
        "for i in range(n):\n",
        "  print(nodes[i].affine_length * nodes[i].edge, end=\" \")"
      ],
      "metadata": {
        "colab": {
          "base_uri": "https://localhost:8080/"
        },
        "id": "ov4xpIZelfp3",
        "outputId": "b177b6ca-1923-4807-8212-f062eeb5c0fc"
      },
      "execution_count": 5,
      "outputs": [
        {
          "output_type": "stream",
          "name": "stdout",
          "text": [
            "[0 0] [0 1] [2. 1.] [2. 0.] \n",
            "[0. 1.] [2. 0.] [ 0. -1.] [-2.  0.] "
          ]
        }
      ]
    },
    {
      "cell_type": "code",
      "source": [
        "def dist (x,y):\n",
        "  return np.linalg.norm(x-y)"
      ],
      "metadata": {
        "id": "EUeIod3SPLIp"
      },
      "execution_count": 6,
      "outputs": []
    },
    {
      "cell_type": "code",
      "source": [
        "def intersect_one (i,j):\n",
        "  # solve the intersection between i-th nodal ray and j-th edge\n",
        "  global n\n",
        "  global nodes\n",
        "\n",
        "  # copy as local variables\n",
        "  n1 = nodes[i].vertex\n",
        "  n2 = nodes[j].vertex\n",
        "  n3 = nodes[(j+1)%n].vertex\n",
        "  v1 = nodes[i].nodal_ray\n",
        "  v2 = nodes[j].edge\n",
        "\n",
        "  # solve for the intersection point\n",
        "  vec = np.array([ v1[1]*n1[0]-v1[0]*n1[1], v2[1]*n2[0]-v2[0]*n2[1] ])\n",
        "  mat = np.array([ [ v1[1], -v1[0] ],\n",
        "            [ v2[1], -v2[0] ] ])\n",
        "  itx = np.linalg.solve(mat, vec)\n",
        "\n",
        "  # check the intersection is on the edge\n",
        "  if (n2[0]==n3[0]):\n",
        "    lmbda = (itx[1]-n3[1]) / (n2[1]-n3[1])\n",
        "  else:\n",
        "    lmbda = (itx[0]-n3[0]) / (n2[0]-n3[0])\n",
        "  if (lmbda<0 or lmbda>1):\n",
        "    return np.array([-1,-1])\n",
        "\n",
        "  return itx"
      ],
      "metadata": {
        "id": "NmXjnuKwkTSo"
      },
      "execution_count": 7,
      "outputs": []
    },
    {
      "cell_type": "code",
      "source": [
        "# test intersect_one\n",
        "init_polydisk(0.5)\n",
        "intersect_one(0,1)"
      ],
      "metadata": {
        "colab": {
          "base_uri": "https://localhost:8080/"
        },
        "id": "se1mqCADPqrB",
        "outputId": "57256d06-07ff-44cf-926e-1e851ff1b702"
      },
      "execution_count": null,
      "outputs": [
        {
          "output_type": "execute_result",
          "data": {
            "text/plain": [
              "-1"
            ]
          },
          "metadata": {},
          "execution_count": 25
        }
      ]
    },
    {
      "cell_type": "code",
      "source": [
        "def intersect_all (x):\n",
        "  # solve the intersecting edge by the x-th nodal ray\n",
        "  global n\n",
        "  global nodes\n",
        "\n",
        "  # the variables for the intersecting edge\n",
        "  min_edge = x\n",
        "  min_itx = np.array([])\n",
        "  min_dis = math.inf\n",
        "  \n",
        "  for i in range(n):\n",
        "    if (i==x or i==(x-1)%n):\n",
        "      continue\n",
        "\n",
        "    itx = intersect_one(x,i)\n",
        "    if (np.array_equal(itx, [-1,-1])):\n",
        "      continue\n",
        "    \n",
        "    dis = dist(nodes[x].vertex, itx)\n",
        "    if (dis < min_dis):\n",
        "      min_edge = i\n",
        "      min_itx = itx\n",
        "      min_dis = dis\n",
        "\n",
        "  return (min_edge, min_itx)"
      ],
      "metadata": {
        "id": "O2xjL38SRxHu"
      },
      "execution_count": 8,
      "outputs": []
    },
    {
      "cell_type": "code",
      "source": [
        "# test intersect_all\n",
        "init_polydisk(0.5)\n",
        "intersect_all(0)"
      ],
      "metadata": {
        "colab": {
          "base_uri": "https://localhost:8080/"
        },
        "id": "BsYltxsrUTnM",
        "outputId": "c149d926-872c-42f3-bf0a-da167bafd838"
      },
      "execution_count": null,
      "outputs": [
        {
          "output_type": "execute_result",
          "data": {
            "text/plain": [
              "(2, array([0.5, 0.5]))"
            ]
          },
          "metadata": {},
          "execution_count": 52
        }
      ]
    },
    {
      "cell_type": "code",
      "source": [
        "def solve_matrix (v1, v2, w1, w2):\n",
        "  # solve the eigen-direction\n",
        "  vec = np.concatenate((v2,w2))\n",
        "  mat = np.array([ [v1[0], v1[1], 0,   0  ],\n",
        "            [0,   0,   v1[0], v1[1]], \n",
        "            [w1[0], w1[1], 0,  0,  ],\n",
        "            [0,   0,   w1[0], w1[1]], ])\n",
        "  res = np.linalg.solve(mat,vec)\n",
        "  return np.array([ [res[0],res[1]], \n",
        "            [res[2],res[3]] ])"
      ],
      "metadata": {
        "id": "53rXhUb4DvcO"
      },
      "execution_count": 9,
      "outputs": []
    },
    {
      "cell_type": "code",
      "source": [
        "# test solve_matrix\n",
        "v1 = [1,-1]\n",
        "v2 = [1,-1]\n",
        "w1 = [2,0]\n",
        "w2 = [0,2]\n",
        "solve_matrix(v1,v2,w1,w2)"
      ],
      "metadata": {
        "colab": {
          "base_uri": "https://localhost:8080/"
        },
        "id": "FcEio2eLI00Y",
        "outputId": "db597e4d-dea5-418f-af34-5c126b9aa6cf"
      },
      "execution_count": null,
      "outputs": [
        {
          "output_type": "execute_result",
          "data": {
            "text/plain": [
              "array([[ 0., -1.],\n",
              "       [ 1.,  2.]])"
            ]
          },
          "metadata": {},
          "execution_count": 10
        }
      ]
    },
    {
      "cell_type": "code",
      "source": [
        "def sanity_check ():\n",
        "  # check if the mutation was proper and print the result\n",
        "  global n\n",
        "  global nodes\n",
        "\n",
        "  loc = np.array([0,0])\n",
        "  for i in range(n):\n",
        "    cur = nodes[i]\n",
        "    print(cur.vertex, cur.nodal_ray, cur.edge, cur.affine_length)\n",
        "\n",
        "    if (dist(loc, cur.vertex) > 1e-5):\n",
        "      print(\"Failed the sanity check at the \", i, \"-th node\")\n",
        "      return\n",
        "\n",
        "    loc = loc + cur.affine_length * cur.edge\n",
        "  \n",
        "  print(\"Passed the sanity check.\\n\")"
      ],
      "metadata": {
        "id": "aU5Mbp0EVCU5"
      },
      "execution_count": 25,
      "outputs": []
    },
    {
      "cell_type": "code",
      "source": [
        "def mutate_counterclockwise (head, tail, itx):\n",
        "  # mutate with nodal_ray < intersecting edge\n",
        "  global n\n",
        "  global nodes \n",
        "\n",
        "  mat = solve_matrix( nodes[head].nodal_ray, nodes[head].nodal_ray, nodes[head].edge, nodes[(head-1)%n].edge )\n",
        "\n",
        "  # construct the new node\n",
        "  new_length = nodes[tail].affine_length * dist(itx, nodes[(tail+1)%n].vertex) / dist(nodes[tail].vertex, nodes[(tail+1)%n].vertex)\n",
        "  new = node(itx, -nodes[head].nodal_ray, nodes[tail].edge, new_length)\n",
        "  nodes = np.insert(nodes, tail+1, new)\n",
        "  #print(new.vertex, new.nodal_ray, new.edge, new.affine_length)\n",
        "\n",
        "  # adjust the head and tail node\n",
        "  nodes[tail].affine_length -= new_length\n",
        "  nodes[head-1].affine_length += nodes[head].affine_length\n",
        "  nodes = np.delete(nodes, head)\n",
        "\n",
        "  # update remaining nodes\n",
        "  for i in range(head, tail):\n",
        "    pre = nodes[(i-1)%n]\n",
        "    nodes[i].vertex = pre.vertex + pre.affine_length * pre.edge\n",
        "    nodes[i].nodal_ray = np.dot(mat, nodes[i].nodal_ray)\n",
        "    nodes[i].edge = np.dot(mat, nodes[i].edge)\n",
        "\n",
        "  sanity_check()"
      ],
      "metadata": {
        "id": "ebyiFQGgdPOX"
      },
      "execution_count": 28,
      "outputs": []
    },
    {
      "cell_type": "code",
      "source": [
        "def mutate_clockwise (head, tail, itx):\n",
        "  # mutate with nodal_ray > intersecting edge\n",
        "  global n\n",
        "  global nodes \n",
        "\n",
        "  mat = solve_matrix( nodes[tail].nodal_ray, nodes[tail].nodal_ray, nodes[(tail-1)%n].edge, nodes[tail].edge )\n",
        "\n",
        "  # construct the new node\n",
        "  new_length = nodes[head].affine_length * dist(itx, nodes[(head+1)%n].vertex) / dist(nodes[head].vertex, nodes[(head+1)%n].vertex)\n",
        "  new = node(itx, -nodes[tail].nodal_ray, nodes[head].edge, new_length)\n",
        "  nodes = np.insert(nodes, head+1, new)\n",
        "  print(new.vertex, new.nodal_ray, new.edge, new.affine_length)\n",
        "\n",
        "  # adjust the old head and tail node\n",
        "  nodes[head].affine_length -= new_length\n",
        "  nodes[tail].affine_length += nodes[tail+1].affine_length\n",
        "  nodes = np.delete(nodes, tail+1)\n",
        "\n",
        "  for i in range(head+1, tail+1):\n",
        "    pre = nodes[(i-1)%n]\n",
        "    nodes[i].vertex = pre.vertex + pre.affine_length * pre.edge\n",
        "    nodes[i].edge = np.dot(mat, nodes[i].edge)\n",
        "    if (np.abs(nodes[i-1].affine_length) > 1e-5):\n",
        "      nodes[i].nodal_ray = np.dot(mat, nodes[i].nodal_ray)\n",
        "    \n",
        "\n",
        "  sanity_check()"
      ],
      "metadata": {
        "id": "gC4tB9DbdUFM"
      },
      "execution_count": 27,
      "outputs": []
    },
    {
      "cell_type": "code",
      "source": [
        "def mutate (x):\n",
        "  # mutate once by x-th nodal_ray\n",
        "  global n\n",
        "  global nodes\n",
        "\n",
        "  (y, itx) = intersect_all(x)\n",
        "\n",
        "  if (x<y):\n",
        "    return mutate_counterclockwise(x,y,itx)\n",
        "  else:\n",
        "    return mutate_clockwise(y,x,itx)"
      ],
      "metadata": {
        "id": "g3B-mw1oX0mM"
      },
      "execution_count": 13,
      "outputs": []
    },
    {
      "cell_type": "code",
      "source": [
        "init_polydisk(np.sqrt(8))\n",
        "mutate(2)\n",
        "mutate(2)\n",
        "mutate(1)"
      ],
      "metadata": {
        "id": "j0MeZHpnPIyn",
        "colab": {
          "base_uri": "https://localhost:8080/"
        },
        "outputId": "8ef77bf5-2b39-4012-8164-7c69249b1fc1"
      },
      "execution_count": 29,
      "outputs": [
        {
          "output_type": "stream",
          "name": "stdout",
          "text": [
            "[0 0] [1 1] [0 1] 1.0\n",
            "[0 1] [ 1 -1] [1 0] 3.8284271247461903\n",
            "[3.82842712 1.        ] [-3. -1.] [-2. -1.] 1.0\n",
            "[1.82842712 0.        ] [1 1] [-1  0] 1.8284271247461903\n",
            "Passed the sanity check.\n",
            "\n",
            "[0 0] [1 1] [0 1] 1.0\n",
            "[0 1] [ 1 -1] [1 0] 4.82842712474619\n",
            "[4.82842712 1.        ] [-5. -1.] [-4. -1.] 1.0\n",
            "[0.82842712 0.        ] [3. 1.] [-1  0] 0.8284271247461903\n",
            "Passed the sanity check.\n",
            "\n",
            "[0 0] [1 1] [0 1] 5.82842712474619\n",
            "[0.         5.82842712] [ 1. -7.] [ 1. -6.] 0.965685424949238\n",
            "[0.96568542 0.03431458] [-1  1] [-4. -1.] 0.03431457505076195\n",
            "[0.82842712 0.        ] [3. 1.] [-1  0] 0.8284271247461903\n",
            "Passed the sanity check.\n",
            "\n"
          ]
        }
      ]
    }
  ]
}