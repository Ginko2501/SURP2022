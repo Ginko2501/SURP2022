{
  "nbformat": 4,
  "nbformat_minor": 0,
  "metadata": {
    "colab": {
      "name": "Untitled2.ipynb",
      "provenance": [],
      "collapsed_sections": [],
      "authorship_tag": "ABX9TyOAH7lwaP9g+N7bUaRY+TZZ",
      "include_colab_link": true
    },
    "kernelspec": {
      "name": "python3",
      "display_name": "Python 3"
    },
    "language_info": {
      "name": "python"
    }
  },
  "cells": [
    {
      "cell_type": "markdown",
      "metadata": {
        "id": "view-in-github",
        "colab_type": "text"
      },
      "source": [
        "<a href=\"https://colab.research.google.com/github/Ginko2501/SURP2022/blob/main/solve_matrix.ipynb\" target=\"_parent\"><img src=\"https://colab.research.google.com/assets/colab-badge.svg\" alt=\"Open In Colab\"/></a>"
      ]
    },
    {
      "cell_type": "code",
      "execution_count": 3,
      "metadata": {
        "id": "-7hpRWKCCqHY"
      },
      "outputs": [],
      "source": [
        "import csv\n",
        "import math\n",
        "import numpy as np"
      ]
    },
    {
      "cell_type": "code",
      "source": [
        "a = np.array([1,2])\n",
        "b = np.array([1,2])\n",
        "print(a)\n",
        "np.concatenate((a,b),axis=0)"
      ],
      "metadata": {
        "colab": {
          "base_uri": "https://localhost:8080/"
        },
        "id": "T6U8F3SuGVrq",
        "outputId": "a8c0500a-1114-462a-cf9d-0084ff62d7c8"
      },
      "execution_count": 21,
      "outputs": [
        {
          "output_type": "stream",
          "name": "stdout",
          "text": [
            "[1 2]\n"
          ]
        },
        {
          "output_type": "execute_result",
          "data": {
            "text/plain": [
              "array([1, 2, 1, 2])"
            ]
          },
          "metadata": {},
          "execution_count": 21
        }
      ]
    },
    {
      "cell_type": "code",
      "source": [
        "def solve_matrix (v1, v2, w1, w2):\n",
        "  vec = np.concatenate((v2,w2), axis=0)\n",
        "  mat = np.array([ [v1[0], v1[1], 0,   0  ],\n",
        "            [0,   0,   v1[0], v1[1]], \n",
        "            [w1[0], w1[1], 0,  0,  ],\n",
        "            [0,   0,   w1[0], w1[1]], ])\n",
        "  return np.linalg.solve(mat,vec)"
      ],
      "metadata": {
        "id": "53rXhUb4DvcO"
      },
      "execution_count": 24,
      "outputs": []
    },
    {
      "cell_type": "code",
      "source": [
        "v1 = np.array([-1,1])\n",
        "v2 = np.array([-1,1])\n",
        "w1 = np.array([0,1])\n",
        "w2 = np.array([1,0])\n",
        "solve_matrix(v1,v2,w1,w2)"
      ],
      "metadata": {
        "colab": {
          "base_uri": "https://localhost:8080/"
        },
        "id": "FcEio2eLI00Y",
        "outputId": "25e7f678-34fb-45ad-9d9e-6bf3da1d52e6"
      },
      "execution_count": 25,
      "outputs": [
        {
          "output_type": "stream",
          "name": "stdout",
          "text": [
            "[-1  1  1  0]\n",
            "[[-1  1  0  0]\n",
            " [ 0  0 -1  1]\n",
            " [ 0  1  0  0]\n",
            " [ 0  0  0  1]]\n"
          ]
        },
        {
          "output_type": "execute_result",
          "data": {
            "text/plain": [
              "array([ 2.,  1., -1.,  0.])"
            ]
          },
          "metadata": {},
          "execution_count": 25
        }
      ]
    }
  ]
}