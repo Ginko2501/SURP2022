{
  "nbformat": 4,
  "nbformat_minor": 0,
  "metadata": {
    "colab": {
      "name": "ATF.ipynb",
      "provenance": [],
      "collapsed_sections": [],
      "mount_file_id": "1_HQSYR5lHqd6y5TUPrBlms-jl258LR-H",
      "authorship_tag": "ABX9TyOfcAGAr2/aqnwtgjgplCzC",
      "include_colab_link": true
    },
    "kernelspec": {
      "name": "python3",
      "display_name": "Python 3"
    },
    "language_info": {
      "name": "python"
    }
  },
  "cells": [
    {
      "cell_type": "markdown",
      "metadata": {
        "id": "view-in-github",
        "colab_type": "text"
      },
      "source": [
        "<a href=\"https://colab.research.google.com/github/Ginko2501/SURP2022/blob/main/ATF.ipynb\" target=\"_parent\"><img src=\"https://colab.research.google.com/assets/colab-badge.svg\" alt=\"Open In Colab\"/></a>"
      ]
    },
    {
      "cell_type": "code",
      "execution_count": 3,
      "metadata": {
        "id": "-7hpRWKCCqHY"
      },
      "outputs": [],
      "source": [
        "import csv\n",
        "import math\n",
        "import numpy as np"
      ]
    },
    {
      "cell_type": "code",
      "source": [
        "# variables\n",
        "nodes = np.empty(shape=[0,2])\n",
        "nodal_rays = np.empty(shape=[0,2])\n",
        "edges = np.empty(shape=[0,2])"
      ],
      "metadata": {
        "id": "1HOSxYsfhGT1"
      },
      "execution_count": 4,
      "outputs": []
    },
    {
      "cell_type": "code",
      "source": [
        "def init_polydisk (x):\n",
        "  # initialize polydisk P(1,x)\n",
        "  global n\n",
        "  global nodes\n",
        "  global nodal_rays\n",
        "  global edges\n",
        "\n",
        "  n = 4\n",
        "\n",
        "  # init nodes\n",
        "  nodes = np.empty(shape=[0,2])\n",
        "  nodes = np.append(nodes, [[0,0]], axis=0)\n",
        "  nodes = np.append(nodes, [[0,1]], axis=0)\n",
        "  nodes = np.append(nodes, [[x,1]], axis=0)\n",
        "  nodes = np.append(nodes, [[x,0]], axis=0)\n",
        "\n",
        "  # init nodal rays\n",
        "  nodal_rays = np.empty(shape=[0,2])\n",
        "  nodal_rays = np.append(nodal_rays, [[1,1]], axis=0)\n",
        "  nodal_rays = np.append(nodal_rays, [[1,-1]], axis=0)\n",
        "  nodal_rays = np.append(nodal_rays, [[-1,-1]], axis=0)\n",
        "  nodal_rays = np.append(nodal_rays, [[-1,1]], axis=0)\n",
        "\n",
        "  # init edges\n",
        "  edges = np.empty(shape=[0,2])\n",
        "  edges = np.append(edges, [[0,1]], axis=0)\n",
        "  edges = np.append(edges, [[x,0]], axis=0)\n",
        "  edges = np.append(edges, [[0,-1]], axis=0)\n",
        "  edges = np.append(edges, [[-x,0]], axis=0)\n",
        "  "
      ],
      "metadata": {
        "id": "dVBR1DMek3At"
      },
      "execution_count": 5,
      "outputs": []
    },
    {
      "cell_type": "code",
      "source": [
        "# test init_polydisk\n",
        "init_polydisk(1.3)\n",
        "print(nodes)"
      ],
      "metadata": {
        "colab": {
          "base_uri": "https://localhost:8080/"
        },
        "id": "ov4xpIZelfp3",
        "outputId": "2b9b69be-40ae-4084-fed8-28cbd21e1a2a"
      },
      "execution_count": 6,
      "outputs": [
        {
          "output_type": "stream",
          "name": "stdout",
          "text": [
            "[[0.  0. ]\n",
            " [0.  1. ]\n",
            " [1.3 1. ]\n",
            " [1.3 0. ]]\n"
          ]
        }
      ]
    },
    {
      "cell_type": "code",
      "source": [
        "def dist (x,y):\n",
        "  return np.linalg.norm(x-y)"
      ],
      "metadata": {
        "id": "EUeIod3SPLIp"
      },
      "execution_count": 7,
      "outputs": []
    },
    {
      "cell_type": "code",
      "source": [
        "def intersect_one (i,j):\n",
        "  # solve the intersection between i-th nodal ray and j-th edge\n",
        "  global n\n",
        "  global nodes\n",
        "  global nodal_rays\n",
        "  global edges\n",
        "\n",
        "  # copy as local variables\n",
        "  n1 = nodes[i]\n",
        "  n2 = nodes[j]\n",
        "  n3 = nodes[(j+1)%n]\n",
        "  v1 = nodal_rays[i]\n",
        "  v2 = edges[j]\n",
        "\n",
        "  # solve for the intersection point\n",
        "  vec = np.array([ v1[1]*n1[0]-v1[0]*n1[1], v2[1]*n2[0]-v2[0]*n2[1] ])\n",
        "  mat = np.array([ [ v1[1], -v1[0] ],\n",
        "            [ v2[1], -v2[0] ] ])\n",
        "  itx = np.linalg.solve(mat, vec)\n",
        "\n",
        "  # check the intersection is on the edge\n",
        "  if (n2[0]==n3[0]):\n",
        "    lmbda = (itx[1]-n3[1]) / (n2[1]-n3[1])\n",
        "  else:\n",
        "    lmbda = (itx[0]-n3[0]) / (n2[0]-n3[0])\n",
        "  if (lmbda<0 or lmbda>1):\n",
        "    return -1\n",
        "  \n",
        "  # return the rescale size\n",
        "  ratio = (itx[0]-n1[0]) / v1[0]\n",
        "  if (ratio<0):\n",
        "    return -1\n",
        "  else:\n",
        "    return ratio"
      ],
      "metadata": {
        "id": "NmXjnuKwkTSo"
      },
      "execution_count": 15,
      "outputs": []
    },
    {
      "cell_type": "code",
      "source": [
        "# test intersect_one\n",
        "init_polydisk(2)\n",
        "intersect_one(0,1)"
      ],
      "metadata": {
        "colab": {
          "base_uri": "https://localhost:8080/"
        },
        "id": "se1mqCADPqrB",
        "outputId": "b388dd21-51c9-48f7-8b20-ee21771b0a27"
      },
      "execution_count": 13,
      "outputs": [
        {
          "output_type": "execute_result",
          "data": {
            "text/plain": [
              "(1.0, array([1., 1.]))"
            ]
          },
          "metadata": {},
          "execution_count": 13
        }
      ]
    },
    {
      "cell_type": "code",
      "source": [
        "def intersect_all (x):\n",
        "  # solve the intersecting edge by the x-th nodal ray\n",
        "  global n\n",
        "  global nodes\n",
        "  global nodal_rays\n",
        "  global edges\n",
        "\n",
        "  # the variables for the intersecting edge\n",
        "  min_edge = x\n",
        "  min_ratio = math.inf\n",
        "  \n",
        "  for i in range(n):\n",
        "    if (i==x or i==(x-1)%n):\n",
        "      continue\n",
        "\n",
        "    ratio = intersect_one(x,i)\n",
        "    if (ratio==-1):\n",
        "      continue\n",
        "    \n",
        "    if (ratio < min_ratio):\n",
        "      min_edge = i\n",
        "      min_ratio = ratio\n",
        "\n",
        "  return (min_edge, nodes[x]+min_ratio*nodal_rays[x])"
      ],
      "metadata": {
        "id": "O2xjL38SRxHu"
      },
      "execution_count": 14,
      "outputs": []
    },
    {
      "cell_type": "code",
      "source": [
        "# test intersect_all\n",
        "init_polydisk(0.5)\n",
        "intersect_all(1)"
      ],
      "metadata": {
        "colab": {
          "base_uri": "https://localhost:8080/"
        },
        "id": "BsYltxsrUTnM",
        "outputId": "9df681ef-8b27-4508-854d-bb169e8cf642"
      },
      "execution_count": 17,
      "outputs": [
        {
          "output_type": "execute_result",
          "data": {
            "text/plain": [
              "(2, array([0.5, 0.5]))"
            ]
          },
          "metadata": {},
          "execution_count": 17
        }
      ]
    },
    {
      "cell_type": "code",
      "source": [
        "def affine_length (v):\n",
        "  "
      ],
      "metadata": {
        "id": "X59ankQOiAD1"
      },
      "execution_count": null,
      "outputs": []
    },
    {
      "cell_type": "code",
      "source": [
        "def solve_matrix (v1, v2, w1, w2):\n",
        "  # solve the eigen-direction\n",
        "  vec = np.concatenate((v2,w2))\n",
        "  mat = np.array([ [v1[0], v1[1], 0,   0  ],\n",
        "            [0,   0,   v1[0], v1[1]], \n",
        "            [w1[0], w1[1], 0,  0,  ],\n",
        "            [0,   0,   w1[0], w1[1]], ])\n",
        "  res = np.linalg.solve(mat,vec)\n",
        "  return np.array([ [res[0],res[1]], \n",
        "            [res[2],res[3]] ])"
      ],
      "metadata": {
        "id": "53rXhUb4DvcO"
      },
      "execution_count": 46,
      "outputs": []
    },
    {
      "cell_type": "code",
      "source": [
        "# test solve_matrix\n",
        "v1 = [-1,1]\n",
        "v2 = [-1,1]\n",
        "w1 = [0,1]\n",
        "w2 = [1,0]\n",
        "solve_matrix(v1,v2,w1,w2)"
      ],
      "metadata": {
        "colab": {
          "base_uri": "https://localhost:8080/"
        },
        "id": "FcEio2eLI00Y",
        "outputId": "1c871eef-93d9-4c77-9e3b-7c2b707dd285"
      },
      "execution_count": null,
      "outputs": [
        {
          "output_type": "execute_result",
          "data": {
            "text/plain": [
              "array([[ 2.,  1.],\n",
              "       [-1.,  0.]])"
            ]
          },
          "metadata": {},
          "execution_count": 7
        }
      ]
    },
    {
      "cell_type": "code",
      "source": [
        "def mutate_clockwise (l, r):\n",
        "  # mutate with nodal_ray < intersecting edge\n",
        "  global n\n",
        "  global nodes\n",
        "  global nodal_rays\n",
        "  global edges\n",
        "\n",
        "  mat = solve_matrix(l,l, edges[l], edges[(l-1)%n])"
      ],
      "metadata": {
        "id": "ebyiFQGgdPOX"
      },
      "execution_count": null,
      "outputs": []
    },
    {
      "cell_type": "code",
      "source": [
        "def mutate_counterclockwise (x):\n",
        "  # mutate with nodal_ray > intersecting edge\n",
        "  return x"
      ],
      "metadata": {
        "id": "gC4tB9DbdUFM"
      },
      "execution_count": 21,
      "outputs": []
    },
    {
      "cell_type": "code",
      "source": [
        "def mutate (x):\n",
        "  # mutate once by x-th nodal_ray\n",
        "  global n\n",
        "  global nodes\n",
        "  global nodal_rays\n",
        "  global edges\n",
        "\n",
        "  (y, itx) = intersect_all(x)\n",
        "\n",
        "  if (x<y):\n",
        "    return mutate_clockwise(x,y)\n",
        "  else:\n",
        "    return mutate_counterclockwise(x,y)"
      ],
      "metadata": {
        "id": "g3B-mw1oX0mM"
      },
      "execution_count": null,
      "outputs": []
    },
    {
      "cell_type": "code",
      "source": [
        ""
      ],
      "metadata": {
        "id": "j0MeZHpnPIyn"
      },
      "execution_count": null,
      "outputs": []
    }
  ]
}